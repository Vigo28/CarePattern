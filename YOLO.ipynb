{
 "cells": [
  {
   "cell_type": "code",
   "execution_count": 1,
   "id": "fb49d4af",
   "metadata": {},
   "outputs": [
    {
     "name": "stdout",
     "output_type": "stream",
     "text": [
      "Video feed is running in background. Press 'q' in the video window to stop.\n"
     ]
    }
   ],
   "source": [
    "import cv2\n",
    "from ultralytics import YOLO\n",
    "import threading\n",
    "import time\n",
    "\n",
    "def run_video_feed():\n",
    "    global running\n",
    "    cap = cv2.VideoCapture(0)\n",
    "    cap.set(cv2.CAP_PROP_FRAME_WIDTH, 640)\n",
    "    cap.set(cv2.CAP_PROP_FRAME_HEIGHT, 480)\n",
    "    \n",
    "    model = YOLO(\"yolo11n-pose.pt\")\n",
    "    \n",
    "    while running:\n",
    "        ret, frame = cap.read()\n",
    "        if not ret:\n",
    "            print(\"❌ Geen frame ontvangen van de webcam\")\n",
    "            break\n",
    "\n",
    "        results = model.predict(frame, imgsz=640, verbose=False)\n",
    "        annotated_frame = results[0].plot()\n",
    "\n",
    "        inference_time = results[0].speed['inference']\n",
    "        fps = 1000 / inference_time if inference_time > 0 else 0\n",
    "        text = f'FPS: {fps:.1f}'\n",
    "\n",
    "        font = cv2.FONT_HERSHEY_SIMPLEX\n",
    "        text_size = cv2.getTextSize(text, font, 1, 2)[0]\n",
    "        text_x = annotated_frame.shape[1] - text_size[0] - 10\n",
    "        text_y = text_size[1] + 10\n",
    "\n",
    "        cv2.putText(annotated_frame, text, (text_x, text_y), font, 1, (255, 255, 255), 2, cv2.LINE_AA)\n",
    "        cv2.imshow(\"YOLO Pose Tracking\", annotated_frame)\n",
    "\n",
    "        if cv2.waitKey(1) & 0xFF == ord(\"q\"):\n",
    "            break\n",
    "\n",
    "    cap.release()\n",
    "    cv2.destroyAllWindows()\n",
    "\n",
    "# Start video feed in separate thread\n",
    "running = True\n",
    "video_thread = threading.Thread(target=run_video_feed)\n",
    "video_thread.start()\n",
    "\n",
    "# Now you can continue with other code blocks\n",
    "print(\"Video feed is running in background. Press 'q' in the video window to stop.\")\n",
    "\n",
    "# To stop the video feed from another cell, you can set:\n",
    "# running = False"
   ]
  }
 ],
 "metadata": {
  "kernelspec": {
   "display_name": ".venv",
   "language": "python",
   "name": "python3"
  },
  "language_info": {
   "codemirror_mode": {
    "name": "ipython",
    "version": 3
   },
   "file_extension": ".py",
   "mimetype": "text/x-python",
   "name": "python",
   "nbconvert_exporter": "python",
   "pygments_lexer": "ipython3",
   "version": "3.12.10"
  }
 },
 "nbformat": 4,
 "nbformat_minor": 5
}
